{
 "cells": [
  {
   "cell_type": "markdown",
   "metadata": {},
   "source": [
    "# Report for EE559 Homework3\n",
    "Name: Peijun He&emsp;&emsp;USD ID: 2734518085"
   ]
  },
  {
   "cell_type": "markdown",
   "metadata": {},
   "source": [
    "## (a) Import the data"
   ]
  },
  {
   "cell_type": "code",
   "execution_count": 128,
   "metadata": {},
   "outputs": [],
   "source": [
    "import pandas as pd\n",
    "import matplotlib.pyplot as plt\n",
    "import numpy as np\n",
    "from sklearn import svm\n",
    "from sklearn.model_selection import GridSearchCV\n",
    "from sklearn.metrics import accuracy_score, hamming_loss"
   ]
  },
  {
   "cell_type": "code",
   "execution_count": 2,
   "metadata": {},
   "outputs": [],
   "source": [
    "df = pd.read_csv('Frogs_MFCCs.csv')\n",
    "data = df.sample(frac = 0.7, random_state = 1)"
   ]
  },
  {
   "cell_type": "markdown",
   "metadata": {},
   "source": [
    "## (b) Multi-class and Multi-label problem "
   ]
  },
  {
   "cell_type": "markdown",
   "metadata": {},
   "source": [
    "### (ii) Gaussian kernels\n",
    "&emsp;&emsp;**Using raw attributes**"
   ]
  },
  {
   "cell_type": "code",
   "execution_count": 117,
   "metadata": {},
   "outputs": [],
   "source": [
    "X_train = data.iloc[:,0:22]\n",
    "y1_train = data['Family'].values\n",
    "y2_train = data['Genus'].values\n",
    "y3_train = data['Species'].values"
   ]
  },
  {
   "cell_type": "code",
   "execution_count": 112,
   "metadata": {},
   "outputs": [
    {
     "data": {
      "text/plain": [
       "GridSearchCV(cv=10, error_score='raise',\n",
       "       estimator=SVC(C=1.0, cache_size=200, class_weight=None, coef0=0.0,\n",
       "  decision_function_shape='ovr', degree=3, gamma='auto', kernel='rbf',\n",
       "  max_iter=-1, probability=False, random_state=None, shrinking=True,\n",
       "  tol=0.001, verbose=False),\n",
       "       fit_params=None, iid=True, n_jobs=2,\n",
       "       param_grid={'C': array([1.e-02, 1.e-01, 1.e+00, 1.e+01, 1.e+02, 1.e+03]), 'gamma': array([ 0.1,  0.2,  0.3,  0.4,  0.5,  0.6,  0.7,  0.8,  0.9,  1. ,  1.1,\n",
       "        1.2,  1.3,  1.4,  1.5,  1.6,  1.7,  1.8,  1.9,  2. ,  5. , 10. ,\n",
       "       15. , 20. , 25. , 30. , 35. , 40. , 45. , 50. ])},\n",
       "       pre_dispatch='2*n_jobs', refit=True, return_train_score='warn',\n",
       "       scoring=None, verbose=0)"
      ]
     },
     "execution_count": 112,
     "metadata": {},
     "output_type": "execute_result"
    }
   ],
   "source": [
    "C = 10 ** np.arange(-2.0,4.0)\n",
    "Gamma = np.append(np.arange(0.1,2.1,0.1),\n",
    "                  np.arange(5,51,5))\n",
    "parameters = {'C':C, 'gamma':Gamma}\n",
    "\n",
    "# Classifier for label 'Family'\n",
    "svc1 = svm.SVC()\n",
    "clf1 = GridSearchCV(svc1, parameters, cv=10, n_jobs=2)\n",
    "clf1.fit(X_train, y1_train)\n",
    "\n",
    "# Classifier for label 'Genus'\n",
    "svc2 = svm.SVC()\n",
    "clf2 = GridSearchCV(svc2, parameters, cv=10, n_jobs=2)\n",
    "clf2.fit(X_train, y2_train)\n",
    "\n",
    "# Classifier for label 'Species'\n",
    "svc3 = svm.SVC()\n",
    "clf3 = GridSearchCV(svc3, parameters, cv=10, n_jobs=2)\n",
    "clf3.fit(X_train, y3_train)"
   ]
  },
  {
   "cell_type": "code",
   "execution_count": 161,
   "metadata": {},
   "outputs": [
    {
     "name": "stdout",
     "output_type": "stream",
     "text": [
      "{'C': 10.0, 'gamma': 2.0}\n",
      "{'C': 10.0, 'gamma': 1.1}\n",
      "{'C': 10.0, 'gamma': 1.1}\n"
     ]
    }
   ],
   "source": [
    "print(clf1.best_params_)\n",
    "print(clf2.best_params_)\n",
    "print(clf3.best_params_)"
   ]
  },
  {
   "cell_type": "code",
   "execution_count": 162,
   "metadata": {},
   "outputs": [],
   "source": [
    "y1_predict = clf1.predict(X_train)\n",
    "y2_predict = clf2.predict(X_train)\n",
    "y3_predict = clf3.predict(X_train)"
   ]
  },
  {
   "cell_type": "code",
   "execution_count": 185,
   "metadata": {},
   "outputs": [],
   "source": [
    "def exact_match(x,y):\n",
    "    length = len(x)\n",
    "    for i in range(length):\n",
    "        if x[i] != y[i]:\n",
    "            return 0\n",
    "    return 1"
   ]
  },
  {
   "cell_type": "code",
   "execution_count": 186,
   "metadata": {},
   "outputs": [
    {
     "name": "stdout",
     "output_type": "stream",
     "text": [
      "0.9984114376489277\n",
      "0.0008604712734974847\n"
     ]
    }
   ],
   "source": [
    "Exact_match = 0\n",
    "Hamming_loss = 0\n",
    "y_train = np.vstack((y1_train,y2_train,y3_train))\n",
    "y_predict = np.vstack((y1_predict,y2_predict,y3_predict))\n",
    "number = y_train.shape[1]\n",
    "\n",
    "for i in range(number):\n",
    "    Exact_match += exact_match(y_train[:,i],y_predict[:,i])\n",
    "    Hamming_loss += hamming_loss(y_train[:,i],y_predict[:,i])\n",
    "    \n",
    "Exact_match /= number\n",
    "Hamming_loss /= number\n",
    "print(Exact_match)\n",
    "print(Hamming_loss)"
   ]
  },
  {
   "cell_type": "code",
   "execution_count": 171,
   "metadata": {},
   "outputs": [
    {
     "data": {
      "text/plain": [
       "array(['Leptodactylidae', 'Adenomera', 'AdenomeraHylaedactylus'],\n",
       "      dtype=object)"
      ]
     },
     "execution_count": 171,
     "metadata": {},
     "output_type": "execute_result"
    }
   ],
   "source": [
    "y_train[:,1]"
   ]
  },
  {
   "cell_type": "code",
   "execution_count": 172,
   "metadata": {},
   "outputs": [
    {
     "data": {
      "text/plain": [
       "array(['Leptodactylidae', 'Adenomera', 'AdenomeraHylaedactylus'],\n",
       "      dtype=object)"
      ]
     },
     "execution_count": 172,
     "metadata": {},
     "output_type": "execute_result"
    }
   ],
   "source": [
    "y_predict[:,1]"
   ]
  }
 ],
 "metadata": {
  "kernelspec": {
   "display_name": "Python 3",
   "language": "python",
   "name": "python3"
  },
  "language_info": {
   "codemirror_mode": {
    "name": "ipython",
    "version": 3
   },
   "file_extension": ".py",
   "mimetype": "text/x-python",
   "name": "python",
   "nbconvert_exporter": "python",
   "pygments_lexer": "ipython3",
   "version": "3.6.5"
  }
 },
 "nbformat": 4,
 "nbformat_minor": 2
}
